{
 "cells": [
  {
   "cell_type": "markdown",
   "metadata": {},
   "source": [
    "<center><img src=\"./images/jupyter_logo.png\" width=\"500\"></center>\n",
    "\n",
    "# Appendix 1. Introduction to Jupyter and Python\n",
    "\n",
    "\n",
    "During this course, we are going to use this software called *Jupyter notebook*, which allows us to write and execute Python code at the moment.\n",
    "\n",
    "Jupyter notebooks are divided in **cells** that can be executed by pressing <kbd>Ctrl</kbd> + <kbd>Enter</kbd>. There are two main types of cells, **Markdown cells** and **Python cells**. Markdown cells are used for writting text\n",
    "and Python cells for writting code that can be executed."
   ]
  },
  {
   "cell_type": "code",
   "execution_count": null,
   "metadata": {},
   "outputs": [],
   "source": [
    "# This is a Python cell!!\n",
    "\n",
    "# This cell can be executed pressing ctrl + enter on it\n",
    "\n",
    "print(10*10)"
   ]
  },
  {
   "cell_type": "markdown",
   "metadata": {},
   "source": [
    "## Used libraries\n",
    "\n",
    "There are two Python libraries that we are going to use frequently in our sessions:\n",
    "\n",
    "<center><img src=\"./images/numpy_logo.png\" width=\"300\" align=\"left\"/><img src=\"./images/opencv_logo.png\" width=\"300\" align=\"rigth\"/></center>\n",
    "\n",
    "\n",
    "\n",
    "- **NumPy** add support for multi-dimensional arrays and matrices, along with a large collection of high-level mathematical functions to operate on these arrays.\n",
    "- **OpenCV** is a library of programming functions mainly aimed at real-time computer vision and image processing.\n",
    "\n",
    "## NumPy introduction\n",
    "\n",
    "For those who are not familiar with Python and NumPy, a tutorial for getting started has been prepared. Here, we are going to understand the basics of Numpy arrays and Python programming."
   ]
  },
  {
   "cell_type": "code",
   "execution_count": null,
   "metadata": {},
   "outputs": [],
   "source": [
    "import numpy # Import library"
   ]
  },
  {
   "cell_type": "markdown",
   "metadata": {},
   "source": [
    "Arrays are created using `numpy.array`"
   ]
  },
  {
   "cell_type": "code",
   "execution_count": null,
   "metadata": {},
   "outputs": [],
   "source": [
    "identity = numpy.array([[1,0,0],[0,1,0],[0,0,1]])\n",
    "print(\"Identity matrix: \\n\", identity)"
   ]
  },
  {
   "cell_type": "markdown",
   "metadata": {},
   "source": [
    "NumPy arrays have a shape attribute that returns a tuple containing the length of each dimension of the array.\n",
    "\n",
    "*A tuple is a sequence of immutable Python objects. Tuples are sequences, just like lists. The differences between tuples and lists are, the tuples cannot be changed unlike lists and tuples use parentheses, whereas lists use square brackets.*"
   ]
  },
  {
   "cell_type": "code",
   "execution_count": null,
   "metadata": {},
   "outputs": [],
   "source": [
    "print(\"Identity matrix shape:\", identity.shape)"
   ]
  },
  {
   "cell_type": "markdown",
   "metadata": {},
   "source": [
    "There are some helpful methods for array creation, see [array creation routines](https://docs.scipy.org/doc/numpy/reference/routines.array-creation.html). We will see the most common ones."
   ]
  },
  {
   "cell_type": "code",
   "execution_count": null,
   "metadata": {},
   "outputs": [],
   "source": [
    "zeros = numpy.zeros((2,3)) # (2,3) is a tuple containing the shape of the matrix, parenthesis are required\n",
    "print(\"Zeros:\\n\", zeros)"
   ]
  },
  {
   "cell_type": "code",
   "execution_count": null,
   "metadata": {},
   "outputs": [],
   "source": [
    "ones = numpy.ones((3,2))\n",
    "print(\"Ones: \\n\", ones)"
   ]
  },
  {
   "cell_type": "code",
   "execution_count": null,
   "metadata": {},
   "outputs": [],
   "source": [
    "constant = numpy.full((3,3),7)\n",
    "print(\"Constant:\\n\", constant)\n",
    "# There are many more ..."
   ]
  },
  {
   "cell_type": "markdown",
   "metadata": {},
   "source": [
    "We can rename modules using `import as`"
   ]
  },
  {
   "cell_type": "code",
   "execution_count": null,
   "metadata": {},
   "outputs": [],
   "source": [
    "import numpy as np\n",
    "\n",
    "a = np.array([[1,2,3,4], [5,6,7,8], [9,10,11,12]])\n",
    "print(a)"
   ]
  },
  {
   "cell_type": "markdown",
   "metadata": {},
   "source": [
    "Arrays in Python are 0-indexed, you can access single elements using square brackets notation. "
   ]
  },
  {
   "cell_type": "code",
   "execution_count": null,
   "metadata": {},
   "outputs": [],
   "source": [
    "first_row = a[0]\n",
    "print(\"First_row:\\n\", first_row)"
   ]
  },
  {
   "cell_type": "markdown",
   "metadata": {},
   "source": [
    "It is possible to use negative indexing, accessing the array backwards"
   ]
  },
  {
   "cell_type": "code",
   "execution_count": null,
   "metadata": {},
   "outputs": [],
   "source": [
    "last_row = a[-1] # This is equivalent to a[a.shape[0]-1]\n",
    "print(\"Last_row: \\n\", last_row)"
   ]
  },
  {
   "cell_type": "code",
   "execution_count": null,
   "metadata": {},
   "outputs": [],
   "source": [
    "element = a[2,2] # Third element of third column\n",
    "print(\"Element: \\n\", element)"
   ]
  },
  {
   "cell_type": "markdown",
   "metadata": {},
   "source": [
    "**Slicing** allows taking more than one element in one step. Slice object uses `start:stop:step` notation, we can skip `start` and `stop` if they are array limits, and `step` if is 1."
   ]
  },
  {
   "cell_type": "code",
   "execution_count": null,
   "metadata": {},
   "outputs": [],
   "source": [
    "last_column = a[:,-1]\n",
    "print(\"Last column:\\n\", last_column)"
   ]
  },
  {
   "cell_type": "code",
   "execution_count": null,
   "metadata": {},
   "outputs": [],
   "source": [
    "last_two_columns = a[:,-2:]\n",
    "print(\"Last two columns: \\n\", last_two_columns)"
   ]
  },
  {
   "cell_type": "markdown",
   "metadata": {},
   "source": [
    "We can easily take subarrays using slices"
   ]
  },
  {
   "cell_type": "code",
   "execution_count": null,
   "metadata": {},
   "outputs": [],
   "source": [
    "cropped_a = a[1:3,-2:]\n",
    "print(\"Cropped: \\n\",cropped_a)"
   ]
  },
  {
   "cell_type": "markdown",
   "metadata": {},
   "source": [
    "You can learn more about Numpy indexing on [numpy documentation](https://docs.scipy.org/doc/numpy/reference/arrays.indexing.html)\n",
    "\n",
    "## OpenCV introduction\n",
    "\n",
    "Now, we are going to learn OpenCV basics, such as reading, saving and displaying images.\n",
    "\n",
    "*Note that when we read an image using OpenCV methods, it is read as a NumPy array.*"
   ]
  },
  {
   "cell_type": "code",
   "execution_count": null,
   "metadata": {},
   "outputs": [],
   "source": [
    "import cv2 # Import OpenCV\n",
    "import numpy as np"
   ]
  },
  {
   "cell_type": "markdown",
   "metadata": {},
   "source": [
    "Matplotlib is useful for image displaying"
   ]
  },
  {
   "cell_type": "code",
   "execution_count": null,
   "metadata": {},
   "outputs": [],
   "source": [
    "import matplotlib \n",
    "from matplotlib import pyplot as plt # Import matplotlib.pyplot module\n",
    "matplotlib.rcParams['figure.figsize'] = (6.0, 6.0) # Set default figure size"
   ]
  },
  {
   "cell_type": "code",
   "execution_count": null,
   "metadata": {},
   "outputs": [],
   "source": [
    "# Read gray image\n",
    "\n",
    "images_path = './images/'\n",
    "image = cv2.imread(images_path + 'hotel.jpg',0) # 0 read any image as gray\n",
    "print(image)"
   ]
  },
  {
   "cell_type": "markdown",
   "metadata": {},
   "source": [
    "Gray images have 1 band (2D-arrays)"
   ]
  },
  {
   "cell_type": "code",
   "execution_count": null,
   "metadata": {},
   "outputs": [],
   "source": [
    "print(image.shape)"
   ]
  },
  {
   "cell_type": "code",
   "execution_count": null,
   "metadata": {},
   "outputs": [],
   "source": [
    "#Display image\n",
    "\n",
    "plt.imshow(image, cmap='gray')\n",
    "plt.title('Example gray image')\n",
    "plt.show()"
   ]
  },
  {
   "cell_type": "code",
   "execution_count": null,
   "metadata": {},
   "outputs": [],
   "source": [
    "# Read RGB image\n",
    "\n",
    "image = cv2.imread(images_path + 'hotel.jpg',-1) # -1 read any image as BGR\n",
    "image = cv2.cvtColor(image, cv2.COLOR_BGR2RGB) # OpenCV reads images as BGR, but we need them in RGB\n",
    "# Why BGR? In the early days of computer vision and image processing, many video capture devices and \n",
    "# frame grabbers provided image data in BGR format. This was partly due to the way color information \n",
    "# was stored and transmitted in analog video signals and early digital formats. OpenCV was initially \n",
    "# developed by Intel, and optimizations were made for Intel's processors. Using BGR order could take \n",
    "# advantage of certain hardware-level optimizations and memory alignments specific to Intel architectures \n",
    "# at the time.\n",
    "print(image)"
   ]
  },
  {
   "cell_type": "markdown",
   "metadata": {},
   "source": [
    "RGB images have 3 bands (3D-arrays)"
   ]
  },
  {
   "cell_type": "code",
   "execution_count": null,
   "metadata": {},
   "outputs": [],
   "source": [
    "print(image.shape)"
   ]
  },
  {
   "cell_type": "code",
   "execution_count": null,
   "metadata": {},
   "outputs": [],
   "source": [
    "#Display RGB image\n",
    "plt.imshow(image)\n",
    "plt.title('Example RGB image')\n",
    "plt.show()"
   ]
  },
  {
   "cell_type": "markdown",
   "metadata": {},
   "source": [
    "Images can be cropped taking the piece of the array we are interested in"
   ]
  },
  {
   "cell_type": "code",
   "execution_count": null,
   "metadata": {},
   "outputs": [],
   "source": [
    "cropped_image = image[430:660,340:510]\n",
    "print(cropped_image.shape)"
   ]
  },
  {
   "cell_type": "code",
   "execution_count": null,
   "metadata": {},
   "outputs": [],
   "source": [
    "plt.imshow(cropped_image)\n",
    "plt.show()"
   ]
  },
  {
   "cell_type": "markdown",
   "metadata": {},
   "source": [
    "Also we can modify them"
   ]
  },
  {
   "cell_type": "code",
   "execution_count": null,
   "metadata": {},
   "outputs": [],
   "source": [
    "img_goku = cv2.imread(images_path + 'goku_cloud.png',-1) # -1 read any image as BGR\n",
    "img_goku = cv2.cvtColor(img_goku, cv2.COLOR_BGR2RGB) # OpenCV reads images as BGR, but we need them in RGB\n",
    "img_goku_resized = cv2.resize(img_goku, (130,140))\n",
    "\n",
    "image[100:240,580:710] = img_goku_resized[:,:,:3]\n",
    "\n",
    "plt.imshow(image)\n",
    "plt.show()"
   ]
  }
 ],
 "metadata": {
  "kernelspec": {
   "display_name": "Python 3 (ipykernel)",
   "language": "python",
   "name": "python3"
  },
  "language_info": {
   "codemirror_mode": {
    "name": "ipython",
    "version": 3
   },
   "file_extension": ".py",
   "mimetype": "text/x-python",
   "name": "python",
   "nbconvert_exporter": "python",
   "pygments_lexer": "ipython3",
   "version": "3.12.0"
  },
  "varInspector": {
   "cols": {
    "lenName": 16,
    "lenType": 16,
    "lenVar": 40
   },
   "kernels_config": {
    "python": {
     "delete_cmd_postfix": "",
     "delete_cmd_prefix": "del ",
     "library": "var_list.py",
     "varRefreshCmd": "print(var_dic_list())"
    },
    "r": {
     "delete_cmd_postfix": ") ",
     "delete_cmd_prefix": "rm(",
     "library": "var_list.r",
     "varRefreshCmd": "cat(var_dic_list()) "
    }
   },
   "oldHeight": 280.683666,
   "position": {
    "height": "40px",
    "left": "1225.25px",
    "right": "20px",
    "top": "71px",
    "width": "462.167px"
   },
   "types_to_exclude": [
    "module",
    "function",
    "builtin_function_or_method",
    "instance",
    "_Feature"
   ],
   "varInspector_section_display": "none",
   "window_display": false
  }
 },
 "nbformat": 4,
 "nbformat_minor": 4
}
