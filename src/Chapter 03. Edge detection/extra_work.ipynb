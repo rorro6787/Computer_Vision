{
 "cells": [
  {
   "cell_type": "markdown",
   "metadata": {},
   "source": [
    "### **<span style=\"color:green\"><b><i>EXTRA ASSIGNMENT: DOG operator</i></b></span>**\n",
    "\n",
    "1. In the last jupyter notebook, it was introduced the LOG operator and the Canny algorithm. The DOG operator was mentioned but never implemented.\n",
    "\n",
    "2. We will implement the DOG operator and use it for edge detection."
   ]
  },
  {
   "cell_type": "code",
   "execution_count": 14,
   "metadata": {},
   "outputs": [],
   "source": [
    "import numpy as np\n",
    "from scipy import signal\n",
    "import cv2\n",
    "import matplotlib.pyplot as plt\n",
    "import matplotlib\n",
    "from ipywidgets import interact, fixed, widgets\n",
    "from mpl_toolkits.mplot3d import Axes3D\n",
    "\n",
    "matplotlib.rcParams['figure.figsize'] = (15.0, 15.0)\n",
    "\n",
    "images_path = './images/'"
   ]
  },
  {
   "cell_type": "code",
   "execution_count": 15,
   "metadata": {},
   "outputs": [],
   "source": [
    "# DoG operator\n",
    "def DoG_operator(image, sigma1, sigma2, w_kernel):\n",
    "    \"\"\" Apply the Difference of Gaussian (DoG) operator to an image for edge detection.\n",
    "    \n",
    "        Args:\n",
    "            image: Input image to apply the DoG operator\n",
    "            sigma1: Standard deviation of the first Gaussian distribution (smaller sigma)\n",
    "            sigma2: Standard deviation of the second Gaussian distribution (larger sigma)\n",
    "            w_kernel: Kernel aperture size (same for both Gaussian filters)\n",
    "                    \n",
    "        Returns: \n",
    "            DoG_img: Image after applying the DoG operator (edges detected)\n",
    "    \"\"\"   \n",
    "    # Define 1D Gaussian kernel for the first sigma\n",
    "    kernel_1D_sigma1 = np.array([(1/(sigma1*np.sqrt(2*np.pi)))*np.exp(-((z**2)/(2*sigma1**2))) for z in range(-w_kernel, w_kernel+1)])\n",
    "    \n",
    "    # Define 1D Gaussian kernel for the second sigma\n",
    "    kernel_1D_sigma2 = np.array([(1/(sigma2*np.sqrt(2*np.pi)))*np.exp(-((z**2)/(2*sigma2**2))) for z in range(-w_kernel, w_kernel+1)])\n",
    "    \n",
    "    # Create 2D Gaussian kernels\n",
    "    vertical_kernel_sigma1 = kernel_1D_sigma1.reshape(2*w_kernel+1, 1)\n",
    "    horizontal_kernel_sigma1 = kernel_1D_sigma1.reshape(1, 2*w_kernel+1)\n",
    "    gaussian_kernel_2D_sigma1 = signal.convolve2d(vertical_kernel_sigma1, horizontal_kernel_sigma1)\n",
    "    \n",
    "    vertical_kernel_sigma2 = kernel_1D_sigma2.reshape(2*w_kernel+1, 1)\n",
    "    horizontal_kernel_sigma2 = kernel_1D_sigma2.reshape(1, 2*w_kernel+1)\n",
    "    gaussian_kernel_2D_sigma2 = signal.convolve2d(vertical_kernel_sigma2, horizontal_kernel_sigma2)\n",
    "    \n",
    "    # Apply Gaussian filters to the image\n",
    "    blurred_img_sigma1 = cv2.filter2D(image, cv2.CV_16S, gaussian_kernel_2D_sigma1)\n",
    "    blurred_img_sigma2 = cv2.filter2D(image, cv2.CV_16S, gaussian_kernel_2D_sigma2)\n",
    "    \n",
    "    # Subtract the two blurred images to get the DoG image\n",
    "    DoG_img = blurred_img_sigma1 - blurred_img_sigma2\n",
    "    \n",
    "    # Normalize the result to [0, 255]\n",
    "    DoG_img_norm = cv2.normalize(DoG_img, None, 0, 255, cv2.NORM_MINMAX)\n",
    "    \n",
    "    plt.imshow(DoG_img_norm, cmap='gray')\n"
   ]
  },
  {
   "cell_type": "code",
   "execution_count": 16,
   "metadata": {},
   "outputs": [
    {
     "data": {
      "application/vnd.jupyter.widget-view+json": {
       "model_id": "4558bd2dcd514b7aa57d2b738428503f",
       "version_major": 2,
       "version_minor": 0
      },
      "text/plain": [
       "interactive(children=(FloatSlider(value=1.0, description='sigma1', max=3.0, step=0.5), IntSlider(value=2, desc…"
      ]
     },
     "metadata": {},
     "output_type": "display_data"
    }
   ],
   "source": [
    "image = cv2.imread(images_path + 'medical_3.jpg', 0)\n",
    "\n",
    "interact(DoG_operator, image=fixed(image), sigma1=(0,3,0.5), sigma2=(0,5,1), w_kernel=(50,100,10));"
   ]
  }
 ],
 "metadata": {
  "kernelspec": {
   "display_name": "venv",
   "language": "python",
   "name": "python3"
  },
  "language_info": {
   "codemirror_mode": {
    "name": "ipython",
    "version": 3
   },
   "file_extension": ".py",
   "mimetype": "text/x-python",
   "name": "python",
   "nbconvert_exporter": "python",
   "pygments_lexer": "ipython3",
   "version": "3.12.3"
  }
 },
 "nbformat": 4,
 "nbformat_minor": 2
}
