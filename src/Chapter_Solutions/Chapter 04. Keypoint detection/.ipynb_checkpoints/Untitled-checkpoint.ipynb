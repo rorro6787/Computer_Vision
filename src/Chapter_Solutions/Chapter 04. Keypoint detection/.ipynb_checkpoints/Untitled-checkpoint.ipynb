{
 "cells": [
  {
   "cell_type": "code",
   "execution_count": null,
   "id": "0610faf3-3ecd-4f6d-9314-1e70a8497250",
   "metadata": {},
   "outputs": [],
   "source": [
    "import cv2\n",
    "import numpy as np\n",
    "\n",
    "# Cargar la imagen del móvil\n",
    "images_path = './images/'\n",
    "image = cv2.imread(images_path + 'movil.jpg')\n",
    "\n",
    "# Convertir la imagen a escala de grises\n",
    "gray = cv2.cvtColor(image, cv2.COLOR_BGR2GRAY)\n",
    "\n",
    "# Detectar esquinas utilizando el detector Shi-Tomasi\n",
    "corners = cv2.goodFeaturesToTrack(gray, maxCorners=4, qualityLevel=0.01, minDistance=10)\n",
    "\n",
    "# Dibujar las esquinas detectadas en la imagen original\n",
    "for corner in corners:\n",
    "    x, y = corner.ravel()\n",
    "    cv2.circle(image, (x, y), 3, (0, 0, 255), -1)\n",
    "\n",
    "# Calcular el área del cuadrado formado por las cuatro esquinas\n",
    "if len(corners) == 4:\n",
    "    # Ordenar las esquinas en sentido horario\n",
    "    sorted_corners = sorted(corners, key=lambda x: x[0])\n",
    "    top_left, bottom_left, top_right, bottom_right = sorted_corners\n",
    "\n",
    "    # Calcular la longitud de los lados\n",
    "    side1 = np.linalg.norm(top_left - top_right)\n",
    "    side2 = np.linalg.norm(top_left - bottom_left)\n",
    "\n",
    "    # Calcular el área del cuadrado\n",
    "    area = side1 * side2\n",
    "\n",
    "    print(\"Área del cuadrado: {:.2f} unidades cuadradas\".format(area))\n",
    "else:\n",
    "    print(\"No se detectaron las cuatro esquinas del cuadrado.\")\n",
    "\n",
    "# Mostrar la imagen con las esquinas resaltadas\n",
    "cv2.imshow('Mobile Image', image)\n",
    "cv2.waitKey(0)\n",
    "cv2.destroyAllWindows()\n"
   ]
  }
 ],
 "metadata": {
  "kernelspec": {
   "display_name": "Python 3 (ipykernel)",
   "language": "python",
   "name": "python3"
  },
  "language_info": {
   "codemirror_mode": {
    "name": "ipython",
    "version": 3
   },
   "file_extension": ".py",
   "mimetype": "text/x-python",
   "name": "python",
   "nbconvert_exporter": "python",
   "pygments_lexer": "ipython3",
   "version": "3.10.12"
  }
 },
 "nbformat": 4,
 "nbformat_minor": 5
}
