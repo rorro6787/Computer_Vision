{
 "cells": [
  {
   "cell_type": "markdown",
   "metadata": {},
   "source": [
    "# 6.1 Shape descriptors\n",
    "\n",
    "The main objective of region description is to obtain a mathematical representation of a segmented region from an image consisting of a vector of features $\\mathbf{x}=[x_1,\\dots,x_n]$.  \n",
    "\n",
    "<center><img src=\"./images/region_description_sample.png\" width=\"450\"></center>\n",
    "\n",
    "In this notebook we will see a branch of region description called **shape analysis**. Shape analysis aims to construct this feature vector using only shape features (e.g., size, perimeter, circularity or compactness).  \n",
    "\n",
    "Depending on the application, it could be needed that the used descriptor be **invariant** to the position in the image in which the regions appears, its orientation, and/or its size (scale). Some examples:\n",
    "\n",
    "<center><img src=\"./images/invariances.png\" width=\"650\"></center>\n",
    "\n",
    "This notebook **covers simple shape descriptors of regions** based on their area, perimeter, minimal bounding-box, etc (sections 6.1.1 and 6.1.2). We will also study **if these descriptors are invariant to position, orentation and size** (section 6.1.3). Let's go!"
   ]
  },
  {
   "cell_type": "markdown",
   "metadata": {},
   "source": [
    "## Problem context - Number-plate recognition\n",
    "\n",
    "So here we are again! UMA called for us to join a team working on their parking access system. This time, they want to upgrade their obsolete number-plate detection algorithm by including better and more efficient methods.  \n",
    "\n",
    "<center><img src=\"./images/access_system.png\" width=\"400\">$\\\\[5pt]$</center>\n",
    "\n",
    "Here is where our work starts, we are going to **apply shape analysis to each of the characters** that can appear on a license plate, that is, numbers from 0 to 9, and letters in the alphabet. The idea is to **produce a unique feature vector** for each character that could appear on a plate (e.g. $\\mathbf{x^0}$, $\\mathbf{x^1}$, $\\dots$, $\\mathbf{x^A}$, $\\mathbf{x^B}$, etc.) so it could be later used to **train an automatic classification system** (we will see this in the next chapter!)."
   ]
  },
  {
   "cell_type": "code",
   "execution_count": null,
   "metadata": {},
   "outputs": [],
   "source": [
    "import numpy as np\n",
    "import cv2\n",
    "import matplotlib.pyplot as plt\n",
    "import matplotlib\n",
    "matplotlib.rcParams['figure.figsize'] = (15.0, 8.0)\n",
    "\n",
    "images_path = './images/'"
   ]
  },
  {
   "cell_type": "markdown",
   "metadata": {},
   "source": [
    "### Initial data\n",
    "\n",
    "UMA's parking security team have sent us some segmented plate characters captured by their camera in the parking. They have binarized and cropped these images, providing us with regions representing such characters as white pixels. These cropped images are `region_0.png` (region with a zero), `region_6.png` (region with a six), `region_B.png` (region with a B), and `region_J.png` (region with a J).  \n",
    "\n",
    "Let's visualize them!"
   ]
  },
  {
   "cell_type": "code",
   "execution_count": null,
   "metadata": {},
   "outputs": [],
   "source": [
    "# Read the images\n",
    "zero = cv2.imread(images_path + 'region_0.png',0)\n",
    "J = cv2.imread(images_path + 'region_J.png',0)\n",
    "B = cv2.imread(images_path + 'region_B.png',0)\n",
    "six = cv2.imread(images_path + 'region_6.png',0)\n",
    "\n",
    "# And show them!\n",
    "plt.subplot(141)\n",
    "plt.imshow(zero, cmap='gray')\n",
    "plt.title('Zero region')\n",
    "\n",
    "plt.subplot(142)\n",
    "plt.imshow(J, cmap='gray')\n",
    "plt.title('J region')\n",
    "\n",
    "plt.subplot(143)\n",
    "plt.imshow(B, cmap='gray')\n",
    "plt.title('B region')\n",
    "\n",
    "plt.subplot(144)\n",
    "plt.imshow(six, cmap='gray')\n",
    "plt.title('Six region');"
   ]
  },
  {
   "cell_type": "markdown",
   "metadata": {},
   "source": [
    "## 6.1.1 Compactness\n",
    "\n",
    "The first feature we are going to work with is **compactness**:$\\\\[5pt]$\n",
    "\n",
    "$$\\textbf{compactness} = \\frac{area}{perimeter^2}$$$\\\\[5pt]$\n",
    "\n",
    "As you can see, this feature associates the area with the permeter of a region. Informally, it tells how *rounded* and *closed* is a region. The most compact shape is the circle, with $\\textbf{compactness} = 1 / (4\\pi)$.\n",
    "\n",
    "<center><img src=\"./images/compactness.png\" width=\"300\"></center>$\\\\[5pt]$"
   ]
  },
  {
   "cell_type": "markdown",
   "metadata": {},
   "source": [
    "#### <font color=\"orange\">OpenCV pill</font>\n",
    "    \n",
    "OpenCV uses contours for analysing shapes. A contour is a list of points that defines a region. We can obtain the contours of a region using [`cv2.findContours()`](https://docs.opencv.org/4.2.0/d3/dc0/group__imgproc__shape.html#gadf1ad6a0b82947fa1fe3c3d497f260e0). "
   ]
  },
  {
   "cell_type": "markdown",
   "metadata": {},
   "source": [
    "### **<span style=\"color:green\"><b><i>ASSIGNMENT 1: Computing compactness</i></b></span>**\n",
    "\n",
    "**What to do?** Complete the function bellow, named `compactness()`, which computes the compactness of an input region.\n",
    "\n",
    "For that, we are going to use the [`cv2.findContours()`](https://docs.opencv.org/4.2.0/d3/dc0/group__imgproc__shape.html#gadf1ad6a0b82947fa1fe3c3d497f260e0) function, which takes as input:\n",
    "\n",
    "- A binary image (containing the region as white pixels).\n",
    "- Contour retrieval mode, it can be:$\\\\[5pt]$\n",
    "    - `RETR_EXTERNAL`: only returns the external contour\n",
    "    - `RETR_LIST`: returns all contours (e.g. the character 0 would contain two contours: external and internal)\n",
    "    - `RETR_CCOMP`: returns all contours and organize them in a two-level hierarchy. At the top level, there are external boundaries of the components. At the second level, there are boundaries of the holes.$\\\\[5pt]$\n",
    "- Method: controls how many points of the contours are being stored, this is for optimization purposes.$\\\\[5pt]$\n",
    "    - `CHAIN_APPROX_NONE`: stores absolutely all the contour points.\n",
    "    - `CHAIN_APPROX_SIMPLE`: compresses horizontal, vertical, and diagonal segments and leaves only their end points. \n",
    "    - `CHAIN_APPROX_TC89_L1`: applies an optimization algorithm.\n",
    "    \n",
    "And returns: \n",
    "\n",
    "- a list containing the contours,\n",
    "- and a list containing information about the image topology. It has as many elements as the number of contours. \n",
    "\n",
    "For simplicity, we are going to take into account **only the external boundary** (as if the regions have not holes), so the second output is not relevant.  \n",
    "\n",
    "Having the contours, you can obtain the **area** and the **perimeter** of the region through [`cv2.contourArea()`](https://docs.opencv.org/4.2.0/d3/dc0/group__imgproc__shape.html#ga2c759ed9f497d4a618048a2f56dc97f1) and [`cv2.arcLength()`](https://docs.opencv.org/4.2.0/d3/dc0/group__imgproc__shape.html#ga8d26483c636be6b35c3ec6335798a47c). Both functions take the contours of the region as input.\n",
    "\n",
    "*Note: Use `cv2.RETR_EXTERNAL` and `cv2.CHAIN_APPROX_NONE`.*"
   ]
  },
  {
   "cell_type": "code",
   "execution_count": null,
   "metadata": {},
   "outputs": [],
   "source": [
    "# Assignment 1\n",
    "def compactness(region):\n",
    "    \"\"\" Compute the compactness of a region.   \n",
    "    \n",
    "        Args:\n",
    "            region: Binary image\n",
    "                    \n",
    "        Returns: \n",
    "            compactness: Compactness of region (between 0 and 1/4pi)\n",
    "    \"\"\"   \n",
    "    plt.imshow(region,cmap='gray')\n",
    "    plt.show()\n",
    "    # Get external contour\n",
    "    contours,_ = cv2.findContours(None, None ,None)\n",
    "    cnt = contours[0]\n",
    "    \n",
    "    img_contours = np.zeros(region.shape)\n",
    "    # draw the contours on the empty image\n",
    "    cv2.drawContours(img_contours, contours, -1, (255,255,255), 1)\n",
    "    plt.imshow(img_contours,cmap='gray')\n",
    "    plt.show()\n",
    "    \n",
    "    # Calcule area\n",
    "    area = cv2.contourArea(None)\n",
    "\n",
    "    # Calcule perimeter\n",
    "    perimeter = cv2.arcLength(None,True)\n",
    "    \n",
    "    print(\"Area:\",area)\n",
    "    print(\"Perimeter:\", perimeter)\n",
    "\n",
    "    # Calcule compactness\n",
    "    compactness = None/(None)\n",
    "\n",
    "    return compactness"
   ]
  },
  {
   "cell_type": "markdown",
   "metadata": {},
   "source": [
    "You can use next code to **test if the results are right**:"
   ]
  },
  {
   "cell_type": "code",
   "execution_count": null,
   "metadata": {},
   "outputs": [],
   "source": [
    "# Read the images\n",
    "zero = cv2.imread(images_path + 'region_0.png',0)\n",
    "J = cv2.imread(images_path + 'region_J.png',0)\n",
    "B = cv2.imread(images_path + 'region_B.png',0)\n",
    "six = cv2.imread(images_path + 'region_6.png',0)\n",
    "\n",
    "# And show their compactness!\n",
    "print(\" Compactness of 0: \", round(compactness(zero),5), \"\\n\",\n",
    "      \"Compactness of J: \", round(compactness(J),5), \"\\n\",\n",
    "      \"Compactness of B: \", round(compactness(B),5), \"\\n\",\n",
    "      \"Compactness of 6: \", round(compactness(six),5))"
   ]
  },
  {
   "cell_type": "markdown",
   "metadata": {},
   "source": [
    "<font color='blue'>**Expected output  </font> (using `CHAIN_APPROX_NONE`):**\n",
    "\n",
    "    Compactness of 0:  0.06588 \n",
    "    Compactness of J:  0.01815 \n",
    "    Compactness of B:  0.05675 \n",
    "    Compactness of 6:  0.02876"
   ]
  },
  {
   "cell_type": "markdown",
   "metadata": {},
   "source": [
    "### <font color=\"blue\"><b><i>Thinking about it (1)</i></b></font>\n",
    "\n",
    "Excellent! Now, **answer the following questions:**\n",
    "\n",
    "- Why `region_0.png` have the greatest compactness?\n",
    "  \n",
    "    <p style=\"margin: 4px 0px 6px 5px; color:blue\"><i>Your answer here!</i></p>\n",
    "    \n",
    "- Could we differentiate all characters using only this feature as feature vector?\n",
    "  \n",
    "    <p style=\"margin: 4px 0px 0px 5px; color:blue\"><i>Your answer here!</i></p>   \n",
    "    \n",
    "- Is compactness invariant to position, orientation or scale?\n",
    "\n",
    "    <p style=\"margin: 4px 0px 0px 5px; color:blue\"><i>Your answer here!</i></p>   "
   ]
  },
  {
   "cell_type": "markdown",
   "metadata": {
    "tags": []
   },
   "source": [
    "## 6.1.2 Extent\n",
    "\n",
    "Another shape descriptor is **extent** of a shape:$\\\\[5pt]$\n",
    "\n",
    "$$\\textbf{extent} = \\frac{area}{bounding\\ rectangle\\ area}$$$\\\\[5pt]$\n",
    "\n",
    "This feature associates the area of the region with the area its bounding rectangle. A **bounding rectangle** can be defined as the minimum rectangle that contains all the pixels of a region whose bottom edge is horizontal and its left edge is vertical.\n",
    "\n",
    "<center><img src=\"./images/bounding.png\" width=\"400\"></center>\n",
    "\n",
    "The shape with the highest extent value is the rectangle, with $extent=1$, while the lowest one is an empty region so $extent=0$."
   ]
  },
  {
   "cell_type": "markdown",
   "metadata": {},
   "source": [
    "### **<span style=\"color:green\"><b><i>ASSIGNMENT 2: Time to compute the extent</i></b></span>**\n",
    "\n",
    "Complete the function `extent()`, which receives the `region` to be described as input and returns its `extent`.\n",
    "\n",
    "*Tip: compute the bounding rectangle using [cv2.boundingRect()](https://docs.opencv.org/4.2.0/d3/dc0/group__imgproc__shape.html#ga103fcbda2f540f3ef1c042d6a9b35ac7), which also takes the contours as input.*"
   ]
  },
  {
   "cell_type": "code",
   "execution_count": null,
   "metadata": {},
   "outputs": [],
   "source": [
    "def extent(region):\n",
    "    \"\"\" Compute the extent of a region.   \n",
    "    \n",
    "        Args:\n",
    "            region: Binary image\n",
    "                    \n",
    "        Returns: \n",
    "            extent: Extent of region (between 0 and 1)\n",
    "    \"\"\"   \n",
    "    \n",
    "    # Get external contour\n",
    "    contours,_ = cv2.findContours(None,cv2.RETR_CCOMP,cv2.CHAIN_APPROX_SIMPLE)\n",
    "    cnt = contours[0]\n",
    "    \n",
    "    # Calcule area\n",
    "    area = cv2.contourArea(None)\n",
    "    \n",
    "    # Get bounding rectangle\n",
    "    _,_,w,h = cv2.boundingRect(None)\n",
    "    \n",
    "    # Calcule bounding rectangle area\n",
    "    rect_area = None*None\n",
    "    \n",
    "    # Calcule extent\n",
    "    extent = float(None)/None\n",
    "    \n",
    "    return extent"
   ]
  },
  {
   "cell_type": "markdown",
   "metadata": {},
   "source": [
    "You can use next code to **test if the obtained results are correct**:"
   ]
  },
  {
   "cell_type": "code",
   "execution_count": null,
   "metadata": {},
   "outputs": [],
   "source": [
    "# Read the images\n",
    "zero = cv2.imread(images_path + 'region_0.png',0)\n",
    "J = cv2.imread(images_path + 'region_J.png',0)\n",
    "B = cv2.imread(images_path + 'region_B.png',0)\n",
    "six = cv2.imread(images_path + 'region_6.png',0)\n",
    "\n",
    "# And show their extent!\n",
    "print(\"Extent of 0: \", round(extent(zero),5), \"\\n\",\n",
    "      \"Extent of J: \", round(extent(J),5), \"\\n\",\n",
    "      \"Extent of B: \", round(extent(B),5), \"\\n\",\n",
    "      \"Extent of 6: \", round(extent(six),5))"
   ]
  },
  {
   "cell_type": "markdown",
   "metadata": {},
   "source": [
    "<font color='blue'>**Expected output  </font> (using `CHAIN_APPROX_NONE`):**\n",
    "\n",
    "    Extent of 0:  0.84203 \n",
    "    Extent of J:  0.2866 \n",
    "    Extent of B:  0.87937 \n",
    "    Extent of 6:  0.64068"
   ]
  },
  {
   "cell_type": "markdown",
   "metadata": {},
   "source": [
    "### <font color=\"blue\"><b><i>Thinking about it (2)</i></b></font>\n",
    "\n",
    "Now, **answer the following questions:**\n",
    "\n",
    "- Why `region_B.png` have the greatest extent?\n",
    "  \n",
    "    <p style=\"margin: 4px 0px 6px 5px; color:blue\"><i>Your answer here!</i></p>\n",
    "    \n",
    "- Is extent invariant to position, orientation or scale? If not, how could we turn it into a invariant feature?\n",
    "  \n",
    "    <p style=\"margin: 4px 0px 0px 5px; color:blue\"><i>Your answer here!</i></p>   "
   ]
  },
  {
   "cell_type": "markdown",
   "metadata": {},
   "source": [
    "## 6.1.3 Building a feature vector\n",
    "\n",
    "Now that we can compute two different features, compactness ($x_1$) and extent ($x_2$), we can build a feature vector ($\\mathbf{x}$) for characterizing each region by concatenating both features, that is, $\\mathbf{x}=[x_1,x_2]$.\n",
    "\n",
    "Before sending to UMA our solution for region description, let's see if these features are discriminative enough to differentiate between the considered characters. "
   ]
  },
  {
   "cell_type": "markdown",
   "metadata": {},
   "source": [
    "### **<span style=\"color:green\"><b><i>ASSIGNMENT 3: Plotting feature vectors</i></b></span>**\n",
    "\n",
    "**You task is** to plot the feature vectors, computed by the functions `compactness()`and `extent()`, in a 2D-space called the **<span style=\"color:DarkOrchid\">feature space!</span>**. In such a space, the **x-axis represents the compactness** of a region and the **y-axis its extent**.\n",
    "\n",
    "In this way, if the descriptions of the considered characters in this space don't appear close to each other, that means that they can be differentiated by relying on those features. **The problem appears if two or more characters have similar features** (their respective points are near). This tell us that **those features are just not enough** for automatically detect the plate characters.\n",
    "\n",
    "*Tip: [intro to pyplot](https://matplotlib.org/tutorials/introductory/pyplot.html)*."
   ]
  },
  {
   "cell_type": "code",
   "execution_count": null,
   "metadata": {},
   "outputs": [],
   "source": [
    "# Assignment 3\n",
    "matplotlib.rcParams['figure.figsize'] = (6.0, 6.0)\n",
    "\n",
    "# Read the images\n",
    "zero = cv2.imread(images_path + 'region_0.png',0)\n",
    "J = cv2.imread(images_path + 'region_J.png',0)\n",
    "B = cv2.imread(images_path + 'region_B.png',0)\n",
    "six = cv2.imread(images_path + 'region_6.png',0)\n",
    "\n",
    "# Build the feature vectors\n",
    "x_zero = np.array([compactness(None), extent(None)])\n",
    "x_J = np.array([compactness(None), extent(None)]) \n",
    "x_B = np.array([compactness(None), extent(None)]) \n",
    "x_six = np.array([compactness(None), extent(None)])\n",
    "\n",
    "# Define the scatter plot\n",
    "fig, ax = plt.subplots()\n",
    "plt.axis([0, 1/(4*np.pi), 0, 1])\n",
    "plt.xlabel(\"Compactness\")\n",
    "plt.ylabel(\"Extent\")\n",
    "\n",
    "# Plot the points\n",
    "plt.plot(x_zero[0], x_zero[1], 'go')\n",
    "plt.text(x_zero[0]+0.005,  x_zero[1]+0.05, '0', bbox={'facecolor': 'green', 'alpha': 0.5, 'pad': 10})\n",
    "plt.plot(x_J[0], x_J[1], 'ro')\n",
    "plt.text(x_J[0]+0.005,  x_J[1]+0.05, 'J', bbox={'facecolor': 'red', 'alpha': 0.5, 'pad': 10})\n",
    "plt.plot(x_B[0], x_B[1], 'mo')\n",
    "plt.text(x_B[0]+0.005,  x_B[1]+0.05, 'B', bbox={'facecolor': 'magenta', 'alpha': 0.5, 'pad': 10})\n",
    "plt.plot(x_six[0], x_six[1], 'bo')\n",
    "plt.text(x_six[0]+0.005,  x_six[1]+0.05, '6', bbox={'facecolor': 'blue', 'alpha': 0.5, 'pad': 10})"
   ]
  },
  {
   "cell_type": "markdown",
   "metadata": {},
   "source": [
    "### <font color=\"blue\"><b><i>Thinking about it (3)</i></b></font>\n",
    "\n",
    "**What do you think?**\n",
    "\n",
    "- Are they discriminative enough?\n",
    "  \n",
    "    <p style=\"margin: 4px 0px 6px 5px; color:blue\"><i>Your answer here!</i></p>\n",
    "     \n",
    "- If your answer is no, how could we handle this problem?\n",
    "  \n",
    "    <p style=\"margin: 4px 0px 0px 5px; color:blue\"><i>Your answer here!</i></p>   "
   ]
  },
  {
   "cell_type": "markdown",
   "metadata": {},
   "source": [
    "### **<span style=\"color:green\"><b><i>OPTIONAL</i></b></span>**\n",
    "\n",
    "Surf the internet looking for **more shape features**, and try to find a pair of them working better than compactness and extent.  \n",
    "\n",
    "### **<span style=\"color:green\"><b><i>END OF OPTIONAL PART</i></b></span>**"
   ]
  },
  {
   "cell_type": "markdown",
   "metadata": {},
   "source": [
    "### **<span style=\"color:green\"><b><i>OPTIONAL</i></b></span>**\n",
    "\n",
    "Take an image of a car plate, apply the thechniques already studied in the course to improve its quality, and binarize it. Then, extract some shape features and check where the numbers/letters are projected in the feature space.\n",
    "\n",
    "### **<span style=\"color:green\"><b><i>END OF OPTIONAL PART</i></b></span>**"
   ]
  },
  {
   "cell_type": "markdown",
   "metadata": {},
   "source": [
    "## Conclusion\n",
    "\n",
    "Great work! You have learned about:\n",
    "- what is the aim of region descriptors, \n",
    "- the ideas behind two simple shape descriptors: compactness and extent, and\n",
    "- to build a vector of features and analyze its discriminative power. \n",
    "\n",
    "Unfortunately, it seems that those two features are not enough to differentiate the plate characters, so let's try more complex descriptors in the next notebook!  "
   ]
  },
  {
   "cell_type": "markdown",
   "metadata": {},
   "source": [
    "## Extra work\n",
    "\n",
    "Surf the internet looking for **more shape features**, and try to find a pair of them working better than compactness and extent.  "
   ]
  }
 ],
 "metadata": {
  "kernelspec": {
   "display_name": "Python 3 (ipykernel)",
   "language": "python",
   "name": "python3"
  },
  "language_info": {
   "codemirror_mode": {
    "name": "ipython",
    "version": 3
   },
   "file_extension": ".py",
   "mimetype": "text/x-python",
   "name": "python",
   "nbconvert_exporter": "python",
   "pygments_lexer": "ipython3",
   "version": "3.10.7"
  },
  "varInspector": {
   "cols": {
    "lenName": 16,
    "lenType": 16,
    "lenVar": 40
   },
   "kernels_config": {
    "python": {
     "delete_cmd_postfix": "",
     "delete_cmd_prefix": "del ",
     "library": "var_list.py",
     "varRefreshCmd": "print(var_dic_list())"
    },
    "r": {
     "delete_cmd_postfix": ") ",
     "delete_cmd_prefix": "rm(",
     "library": "var_list.r",
     "varRefreshCmd": "cat(var_dic_list()) "
    }
   },
   "types_to_exclude": [
    "module",
    "function",
    "builtin_function_or_method",
    "instance",
    "_Feature"
   ],
   "window_display": false
  }
 },
 "nbformat": 4,
 "nbformat_minor": 4
}
